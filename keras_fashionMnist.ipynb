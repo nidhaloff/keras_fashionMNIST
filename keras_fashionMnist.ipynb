{
  "nbformat": 4,
  "nbformat_minor": 0,
  "metadata": {
    "colab": {
      "name": "keras_fashionMnist.ipynb",
      "provenance": [],
      "include_colab_link": true
    },
    "kernelspec": {
      "name": "python3",
      "display_name": "Python 3"
    },
    "accelerator": "GPU"
  },
  "cells": [
    {
      "cell_type": "markdown",
      "metadata": {
        "id": "view-in-github",
        "colab_type": "text"
      },
      "source": [
        "<a href=\"https://colab.research.google.com/github/nidhaloff/keras_fashionMNIST/blob/master/keras_fashionMnist.ipynb\" target=\"_parent\"><img src=\"https://colab.research.google.com/assets/colab-badge.svg\" alt=\"Open In Colab\"/></a>"
      ]
    },
    {
      "cell_type": "code",
      "metadata": {
        "id": "x08AAs8SssE6",
        "colab_type": "code",
        "colab": {
          "base_uri": "https://localhost:8080/",
          "height": 34
        },
        "outputId": "f4bd72da-a2ca-4505-f075-29079e6abde0"
      },
      "source": [
        "import keras\n",
        "from keras import backend as K\n",
        "import tensorflow as tf\n",
        "import numpy as np\n",
        "import pandas as pd\n",
        "import matplotlib.pyplot as plt\n",
        "import seaborn as sns\n",
        "\n",
        "%matplotlib inline\n",
        "\n",
        "# run keras model on google GPU\n",
        "sess = tf.Session(config=tf.ConfigProto(log_device_placement=True))\n",
        "K.tensorflow_backend._get_available_gpus()"
      ],
      "execution_count": 34,
      "outputs": [
        {
          "output_type": "execute_result",
          "data": {
            "text/plain": [
              "['/job:localhost/replica:0/task:0/device:GPU:0']"
            ]
          },
          "metadata": {
            "tags": []
          },
          "execution_count": 34
        }
      ]
    },
    {
      "cell_type": "code",
      "metadata": {
        "id": "7Z676ZAQtlR0",
        "colab_type": "code",
        "colab": {
          "base_uri": "https://localhost:8080/",
          "height": 34
        },
        "outputId": "1af2d01f-36ac-4962-de1d-9c0d3b983ce0"
      },
      "source": [
        "# load dataset\n",
        "dataset = keras.datasets.fashion_mnist.load_data()\n",
        "train_data, test_data = dataset\n",
        "X_train, y_train = train_data\n",
        "X_test, y_test = test_data\n",
        "print(X_train.shape, type(X_train))"
      ],
      "execution_count": 35,
      "outputs": [
        {
          "output_type": "stream",
          "text": [
            "(60000, 28, 28) <class 'numpy.ndarray'>\n"
          ],
          "name": "stdout"
        }
      ]
    },
    {
      "cell_type": "code",
      "metadata": {
        "id": "Bys6TSdauxE2",
        "colab_type": "code",
        "colab": {
          "base_uri": "https://localhost:8080/",
          "height": 608
        },
        "outputId": "e274c77f-9d4d-41ec-8996-bec229265843"
      },
      "source": [
        "# visualize Data\n",
        "\n",
        "labels_map = {0 : 'T-Shirt', 1 : 'Trouser', 2 : 'Pullover', 3 : 'Dress', 4 : 'Coat', 5 : 'Sandal', 6 : 'Shirt',\n",
        "              7 : 'Sneaker', 8 : 'Bag', 9 : 'Ankle Boot'}\n",
        "\n",
        "def plot_image(dataset, index, color='gray'):\n",
        "    plt.imshow(dataset[index], cmap=color)\n",
        "    plt.show()\n",
        "\n",
        "def plot_figures(dataset, labels, color=\"gray\"):\n",
        "    fig = plt.figure(figsize=(10, 10))\n",
        "    plt.xticks([])\n",
        "    plt.yticks([])\n",
        "    rows = 5\n",
        "    cols = 5\n",
        "    for i in range(rows*cols):\n",
        "        fig.add_subplot(5, 5, i+1)\n",
        "        plt.axis('off')\n",
        "        plt.title(labels_map[labels[i]])\n",
        "        plt.imshow(dataset[i], cmap=color)\n",
        "    plt.show()\n",
        "    \n",
        "plot_figures(dataset=X_train, labels=y_train)"
      ],
      "execution_count": 36,
      "outputs": [
        {
          "output_type": "display_data",
          "data": {
            "image/png": "[encoded data removed]",
            "text/plain": [
              "<Figure size 720x720 with 26 Axes>"
            ]
          },
          "metadata": {
            "tags": []
          }
        }
      ]
    },
    {
      "cell_type": "code",
      "metadata": {
        "id": "WDjAfxfKwlzd",
        "colab_type": "code",
        "colab": {}
      },
      "source": [
        "# normalize data\n",
        "X_train, X_test = X_train/255, X_test/255"
      ],
      "execution_count": 0,
      "outputs": []
    },
    {
      "cell_type": "code",
      "metadata": {
        "id": "qod2Sf9v1zMM",
        "colab_type": "code",
        "colab": {}
      },
      "source": [
        "# declare the model\n",
        "model = keras.Sequential([\n",
        "    \n",
        "    keras.layers.Flatten(),\n",
        "    keras.layers.Dense(128, activation=keras.activations.relu),\n",
        "    keras.layers.Dense(64, activation=keras.activations.relu),\n",
        "    keras.layers.Dense(10, activation=keras.activations.softmax)\n",
        "    \n",
        "])\n"
      ],
      "execution_count": 0,
      "outputs": []
    },
    {
      "cell_type": "code",
      "metadata": {
        "id": "y8zZm2Wv2JOu",
        "colab_type": "code",
        "colab": {}
      },
      "source": [
        "# compile the model\n",
        "\n",
        "model.compile(optimizer='adam', loss='sparse_categorical_crossentropy', metrics=['accuracy'])"
      ],
      "execution_count": 0,
      "outputs": []
    },
    {
      "cell_type": "code",
      "metadata": {
        "id": "QblN2rs82Y4x",
        "colab_type": "code",
        "colab": {
          "base_uri": "https://localhost:8080/",
          "height": 731
        },
        "outputId": "ffc9b3c5-601c-410f-b83d-1a6cbde31515"
      },
      "source": [
        "model.fit(X_train, y_train, epochs=20, validation_split=0.2)"
      ],
      "execution_count": 40,
      "outputs": [
        {
          "output_type": "stream",
          "text": [
            "Train on 48000 samples, validate on 12000 samples\n",
            "Epoch 1/20\n",
            "48000/48000 [==============================] - 8s 177us/step - loss: 0.5113 - acc: 0.8181 - val_loss: 0.4057 - val_acc: 0.8558\n",
            "Epoch 2/20\n",
            "48000/48000 [==============================] - 8s 169us/step - loss: 0.3726 - acc: 0.8641 - val_loss: 0.3702 - val_acc: 0.8627\n",
            "Epoch 3/20\n",
            "48000/48000 [==============================] - 8s 166us/step - loss: 0.3361 - acc: 0.8769 - val_loss: 0.3453 - val_acc: 0.8731\n",
            "Epoch 4/20\n",
            "48000/48000 [==============================] - 8s 168us/step - loss: 0.3130 - acc: 0.8843 - val_loss: 0.3406 - val_acc: 0.8784\n",
            "Epoch 5/20\n",
            "48000/48000 [==============================] - 8s 167us/step - loss: 0.2975 - acc: 0.8894 - val_loss: 0.3458 - val_acc: 0.8735\n",
            "Epoch 6/20\n",
            "48000/48000 [==============================] - 8s 167us/step - loss: 0.2807 - acc: 0.8951 - val_loss: 0.3285 - val_acc: 0.8817\n",
            "Epoch 7/20\n",
            "48000/48000 [==============================] - 8s 165us/step - loss: 0.2696 - acc: 0.8990 - val_loss: 0.3181 - val_acc: 0.8872\n",
            "Epoch 8/20\n",
            "48000/48000 [==============================] - 8s 167us/step - loss: 0.2566 - acc: 0.9041 - val_loss: 0.3155 - val_acc: 0.8888\n",
            "Epoch 9/20\n",
            "48000/48000 [==============================] - 8s 172us/step - loss: 0.2457 - acc: 0.9078 - val_loss: 0.3255 - val_acc: 0.8849\n",
            "Epoch 10/20\n",
            "48000/48000 [==============================] - 8s 164us/step - loss: 0.2394 - acc: 0.9107 - val_loss: 0.3468 - val_acc: 0.8842\n",
            "Epoch 11/20\n",
            "48000/48000 [==============================] - 8s 167us/step - loss: 0.2308 - acc: 0.9125 - val_loss: 0.3250 - val_acc: 0.8858\n",
            "Epoch 12/20\n",
            "48000/48000 [==============================] - 8s 168us/step - loss: 0.2231 - acc: 0.9156 - val_loss: 0.3302 - val_acc: 0.8881\n",
            "Epoch 13/20\n",
            "48000/48000 [==============================] - 8s 166us/step - loss: 0.2142 - acc: 0.9183 - val_loss: 0.3466 - val_acc: 0.8801\n",
            "Epoch 14/20\n",
            "48000/48000 [==============================] - 8s 166us/step - loss: 0.2088 - acc: 0.9205 - val_loss: 0.3469 - val_acc: 0.8858\n",
            "Epoch 15/20\n",
            "48000/48000 [==============================] - 8s 168us/step - loss: 0.2055 - acc: 0.9217 - val_loss: 0.3237 - val_acc: 0.8895\n",
            "Epoch 16/20\n",
            "48000/48000 [==============================] - 8s 166us/step - loss: 0.1970 - acc: 0.9252 - val_loss: 0.3285 - val_acc: 0.8907\n",
            "Epoch 17/20\n",
            "48000/48000 [==============================] - 8s 165us/step - loss: 0.1901 - acc: 0.9282 - val_loss: 0.3446 - val_acc: 0.8874\n",
            "Epoch 18/20\n",
            "48000/48000 [==============================] - 8s 165us/step - loss: 0.1853 - acc: 0.9302 - val_loss: 0.3648 - val_acc: 0.8846\n",
            "Epoch 19/20\n",
            "48000/48000 [==============================] - 8s 167us/step - loss: 0.1793 - acc: 0.9323 - val_loss: 0.3768 - val_acc: 0.8793\n",
            "Epoch 20/20\n",
            "48000/48000 [==============================] - 8s 174us/step - loss: 0.1765 - acc: 0.9328 - val_loss: 0.3478 - val_acc: 0.8929\n"
          ],
          "name": "stdout"
        },
        {
          "output_type": "execute_result",
          "data": {
            "text/plain": [
              "<keras.callbacks.History at 0x7f34db6bab70>"
            ]
          },
          "metadata": {
            "tags": []
          },
          "execution_count": 40
        }
      ]
    },
    {
      "cell_type": "code",
      "metadata": {
        "id": "UkdFqdxR2vyb",
        "colab_type": "code",
        "colab": {
          "base_uri": "https://localhost:8080/",
          "height": 51
        },
        "outputId": "ea5f1e52-1a44-401e-b8f9-b73d99358840"
      },
      "source": [
        "loss, accuracy = model.evaluate(X_test, y_test)\n",
        "print(f\"loss: {loss} and acuuracy on test data: {accuracy*100}%\")"
      ],
      "execution_count": 41,
      "outputs": [
        {
          "output_type": "stream",
          "text": [
            "10000/10000 [==============================] - 1s 68us/step\n",
            "loss: 0.3810246640264988 and acuuracy on test data: 88.5%\n"
          ],
          "name": "stdout"
        }
      ]
    },
    {
      "cell_type": "code",
      "metadata": {
        "id": "oW7WGFFR3sk4",
        "colab_type": "code",
        "colab": {
          "base_uri": "https://localhost:8080/",
          "height": 34
        },
        "outputId": "8a6e6b95-1183-45ee-8366-df0fe1b6881d"
      },
      "source": [
        "# evaluate the Model\n",
        "y_pred = model.predict(X_test)\n",
        "predictions = [np.argmax(y_pred[i]) for i in range(len(y_pred))]\n",
        "predictions = (predictions == y_test)\n",
        "predictions = [1 if x == True else 0 for x in predictions]\n",
        "correct_preds, false_preds = predictions.count(1), predictions.count(0)\n",
        "print(f\" Number of Correct predictions of the Model = {correct_preds} and Number of false predictions= {false_preds}\")"
      ],
      "execution_count": 42,
      "outputs": [
        {
          "output_type": "stream",
          "text": [
            " Number of Correct predictions of the Model = 8850 and Number of false predictions= 1150\n"
          ],
          "name": "stdout"
        }
      ]
    },
    {
      "cell_type": "code",
      "metadata": {
        "id": "6s41mfHF5FJU",
        "colab_type": "code",
        "colab": {}
      },
      "source": [
        "def plot_test_image(i, predictions_array, true_label, img):\n",
        "    pred_arr, true_label, img = predictions_array[i], true_label[i], img[i]\n",
        "    plt.grid(False)\n",
        "    plt.xticks([])\n",
        "    plt.yticks([])\n",
        "    plt.imshow(img, cmap=plt.cm.binary)\n",
        "    predicted_label = np.argmax(pred_arr)\n",
        "    if predicted_label == true_label:\n",
        "        color = 'blue'\n",
        "    else:\n",
        "        color = 'red'\n",
        "    \n",
        "    plt.xlabel(\"{} {:2.0f}% ({})\".format(labels_map[predicted_label],\n",
        "                                100*np.max(pred_arr),\n",
        "                                labels_map[true_label]),\n",
        "                                color=color)"
      ],
      "execution_count": 0,
      "outputs": []
    },
    {
      "cell_type": "code",
      "metadata": {
        "id": "QOxqoRkwLKQd",
        "colab_type": "code",
        "colab": {}
      },
      "source": [
        "def plot_value_array(i, predictions_array, true_label):\n",
        "    predictions_array, true_label = predictions_array[i], true_label[i]\n",
        "    plt.grid(False)\n",
        "    plt.xticks([])\n",
        "    plt.yticks([])\n",
        "    thisplot = plt.bar(range(10), predictions_array, color=\"#777777\")\n",
        "    plt.ylim([0, 1])\n",
        "    predicted_label = np.argmax(predictions_array)\n",
        "\n",
        "    thisplot[predicted_label].set_color('red')\n",
        "    thisplot[true_label].set_color('blue')"
      ],
      "execution_count": 0,
      "outputs": []
    },
    {
      "cell_type": "code",
      "metadata": {
        "id": "_Sj0yw2TLRhE",
        "colab_type": "code",
        "colab": {
          "base_uri": "https://localhost:8080/",
          "height": 206
        },
        "outputId": "c12ad7f3-c394-426b-f9f9-fdb8a91a98cd"
      },
      "source": [
        "# test example:\n",
        "i = 0\n",
        "plt.figure(figsize=(6,3))\n",
        "plt.subplot(1,2,1)\n",
        "plot_test_image(i, predictions, y_test, X_test)\n",
        "plt.subplot(1,2,2)\n",
        "plot_value_array(i, predictions,  y_test)\n",
        "plt.show()"
      ],
      "execution_count": 53,
      "outputs": [
        {
          "output_type": "display_data",
          "data": {
            "image/png": "[encoded data removed]",
            "text/plain": [
              "<Figure size 432x216 with 2 Axes>"
            ]
          },
          "metadata": {
            "tags": []
          }
        }
      ]
    },
    {
      "cell_type": "code",
      "metadata": {
        "id": "iC9d1p-BLgPg",
        "colab_type": "code",
        "colab": {
          "base_uri": "https://localhost:8080/",
          "height": 206
        },
        "outputId": "7bdf8dc6-f736-41b7-e85d-51af2d2d1e1a"
      },
      "source": [
        "i = 12\n",
        "plt.figure(figsize=(6,3))\n",
        "plt.subplot(1,2,1)\n",
        "plot_test_image(i, predictions, y_test, X_test)\n",
        "plt.subplot(1,2,2)\n",
        "plot_value_array(i, predictions, y_train)\n",
        "plt.show()"
      ],
      "execution_count": 55,
      "outputs": [
        {
          "output_type": "display_data",
          "data": {
            "image/png": "[encoded data removed]",
            "text/plain": [
              "<Figure size 432x216 with 2 Axes>"
            ]
          },
          "metadata": {
            "tags": []
          }
        }
      ]
    },
    {
      "cell_type": "code",
      "metadata": {
        "id": "mNm6BVu_MGmp",
        "colab_type": "code",
        "colab": {
          "base_uri": "https://localhost:8080/",
          "height": 51
        },
        "outputId": "faa3f575-9f1d-44a9-a076-894bf86b973b"
      },
      "source": [
        "# Plot the first X test images, their predicted label, and the true label\n",
        "# Color correct predictions in blue, incorrect predictions in red\n",
        "num_rows = 5\n",
        "num_cols = 3\n",
        "num_images = num_rows*num_cols\n",
        "plt.figure(figsize=(2*2*num_cols, 2*num_rows))"
      ],
      "execution_count": 56,
      "outputs": [
        {
          "output_type": "execute_result",
          "data": {
            "text/plain": [
              "<Figure size 864x720 with 0 Axes>"
            ]
          },
          "metadata": {
            "tags": []
          },
          "execution_count": 56
        },
        {
          "output_type": "display_data",
          "data": {
            "text/plain": [
              "<Figure size 864x720 with 0 Axes>"
            ]
          },
          "metadata": {
            "tags": []
          }
        }
      ]
    },
    {
      "cell_type": "code",
      "metadata": {
        "id": "ZrAcVk01MpGU",
        "colab_type": "code",
        "colab": {
          "base_uri": "https://localhost:8080/",
          "height": 266
        },
        "outputId": "a06eefae-8b25-41a3-f059-d3ac198e2698"
      },
      "source": [
        "for i in range(num_images):\n",
        "    plt.subplot(num_rows, 2*num_cols, 2*i+1)\n",
        "    plot_test_image(i, predictions, y_test, X_test)\n",
        "    plt.subplot(num_rows, 2*num_cols, 2*i+2)\n",
        "    plot_value_array(i, predictions, y_test)\n",
        "plt.show()"
      ],
      "execution_count": 57,
      "outputs": [
        {
          "output_type": "display_data",
          "data": {
            "image/png": "[encoded data removed]",
            "text/plain": [
              "<Figure size 432x288 with 30 Axes>"
            ]
          },
          "metadata": {
            "tags": []
          }
        }
      ]
    },
    {
      "cell_type": "code",
      "metadata": {
        "id": "nUnBS2_4M9KK",
        "colab_type": "code",
        "colab": {
          "base_uri": "https://localhost:8080/",
          "height": 34
        },
        "outputId": "47bc9250-5210-4624-d449-3e4af315dcd3"
      },
      "source": [
        "# Grab an image from the test dataset\n",
        "img = X_test[0]\n",
        "\n",
        "print(img.shape)"
      ],
      "execution_count": 68,
      "outputs": [
        {
          "output_type": "stream",
          "text": [
            "(28, 28)\n"
          ],
          "name": "stdout"
        }
      ]
    },
    {
      "cell_type": "code",
      "metadata": {
        "id": "Xf9X0XRMNest",
        "colab_type": "code",
        "colab": {
          "base_uri": "https://localhost:8080/",
          "height": 34
        },
        "outputId": "0d168f4f-bfec-4146-ee3e-232a9930c6ab"
      },
      "source": [
        "# Add the image to a batch where it's the only member.\n",
        "img = (np.expand_dims(img,0))\n",
        "\n",
        "print(img.shape)"
      ],
      "execution_count": 69,
      "outputs": [
        {
          "output_type": "stream",
          "text": [
            "(1, 28, 28)\n"
          ],
          "name": "stdout"
        }
      ]
    },
    {
      "cell_type": "code",
      "metadata": {
        "id": "-9t3oJiUNivp",
        "colab_type": "code",
        "colab": {
          "base_uri": "https://localhost:8080/",
          "height": 51
        },
        "outputId": "56f08a61-de5a-4373-efc1-815e554ad0e4"
      },
      "source": [
        "predictions_single = model.predict(img)\n",
        "\n",
        "print(predictions_single)"
      ],
      "execution_count": 70,
      "outputs": [
        {
          "output_type": "stream",
          "text": [
            "[[5.6041802e-09 9.0392996e-06 1.8329981e-10 9.6933981e-08 6.5074446e-11\n",
            "  8.7659710e-06 5.8292962e-08 4.8069918e-04 1.3398222e-11 9.9950135e-01]]\n"
          ],
          "name": "stdout"
        }
      ]
    },
    {
      "cell_type": "code",
      "metadata": {
        "id": "-yKPjunmNlIo",
        "colab_type": "code",
        "colab": {
          "base_uri": "https://localhost:8080/",
          "height": 270
        },
        "outputId": "7586e6c8-6940-401a-e1d8-3136cdf65ed5"
      },
      "source": [
        "plot_value_array(0, predictions_single, y_test)\n",
        "plt.xticks(range(10), labels_map, rotation=45)\n",
        "plt.show()"
      ],
      "execution_count": 73,
      "outputs": [
        {
          "output_type": "display_data",
          "data": {
            "image/png": "[encoded data removed]",
            "text/plain": [
              "<Figure size 432x288 with 1 Axes>"
            ]
          },
          "metadata": {
            "tags": []
          }
        }
      ]
    },
    {
      "cell_type": "code",
      "metadata": {
        "id": "jZ_BXGvoNuHW",
        "colab_type": "code",
        "colab": {
          "base_uri": "https://localhost:8080/",
          "height": 34
        },
        "outputId": "6189f153-b2de-407f-f3b0-8f6bc375f45a"
      },
      "source": [
        "# look whether the prediction was right\n",
        "prediction_result = np.argmax(predictions_single[0])\n",
        "print(prediction_result)"
      ],
      "execution_count": 74,
      "outputs": [
        {
          "output_type": "stream",
          "text": [
            "9\n"
          ],
          "name": "stdout"
        }
      ]
    },
    {
      "cell_type": "code",
      "metadata": {
        "id": "ORoduUZ3O5Np",
        "colab_type": "code",
        "colab": {}
      },
      "source": [
        ""
      ],
      "execution_count": 0,
      "outputs": []
    }
  ]
}